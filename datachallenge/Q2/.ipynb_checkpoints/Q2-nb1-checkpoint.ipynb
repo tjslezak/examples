{
 "cells": [
  {
   "cell_type": "code",
   "execution_count": 224,
   "metadata": {
    "scrolled": true
   },
   "outputs": [
    {
     "name": "stdout",
     "output_type": "stream",
     "text": [
      "Q2: There is a rope of length N with points at interior integer coordinates (1,…,N−1). At every turn, we select 2 unique interior integer coordinates uniformly at random without replacement, cut the rope at those 2 coordinates, and take the longest of the resulting 3 ropes as our new rope. We do this iteratively T times (as long as it is possible to cut the rope at 2 unique interior coordinates) and call the length of the final resulting rope S.\n"
     ]
    }
   ],
   "source": [
    "import random\n",
    "from itertools import combinations\n",
    "import statistics\n",
    "print('Q2: There is a rope of length N with points at interior integer coordinates (1,…,N−1). At every turn, we select 2 unique interior integer coordinates uniformly at random without replacement, cut the rope at those 2 coordinates, and take the longest of the resulting 3 ropes as our new rope. We do this iteratively T times (as long as it is possible to cut the rope at 2 unique interior coordinates) and call the length of the final resulting rope S.')"
   ]
  },
  {
   "cell_type": "code",
   "execution_count": 134,
   "metadata": {},
   "outputs": [],
   "source": [
    "N = 10\n",
    "T = 2"
   ]
  },
  {
   "cell_type": "code",
   "execution_count": 143,
   "metadata": {},
   "outputs": [
    {
     "data": {
      "text/plain": [
       "int"
      ]
     },
     "execution_count": 143,
     "metadata": {},
     "output_type": "execute_result"
    }
   ],
   "source": [
    "rope = []\n",
    "rope = range(1, N-1)\n",
    "h = []\n",
    "h = type(min(rope))\n",
    "h"
   ]
  },
  {
   "cell_type": "code",
   "execution_count": 144,
   "metadata": {},
   "outputs": [
    {
     "name": "stdout",
     "output_type": "stream",
     "text": [
      "[6, 4]\n",
      "4\n",
      "6\n"
     ]
    }
   ],
   "source": [
    "a = [0,2,3,9,5,1,8,6,4,7]\n",
    "r = []\n",
    "r = list(range(1, N))\n",
    "ropelow = min(r)\n",
    "ropehigh = max(r)\n",
    "randval = list(np.random.randint(ropelow, ropehigh, 2))\n",
    "print(randval)\n",
    "cut1 = randval.pop()\n",
    "cut2 = randval.pop()\n",
    "print(cut1)\n",
    "print(cut2)"
   ]
  },
  {
   "cell_type": "code",
   "execution_count": 126,
   "metadata": {},
   "outputs": [
    {
     "name": "stdout",
     "output_type": "stream",
     "text": [
      "1\n",
      "9\n"
     ]
    },
    {
     "data": {
      "text/plain": [
       "[1, 2, 3, 4, 5, 6, 7, 8, 9]"
      ]
     },
     "execution_count": 126,
     "metadata": {},
     "output_type": "execute_result"
    }
   ],
   "source": [
    "print(ropelow)\n",
    "print(ropehigh)\n",
    "r"
   ]
  },
  {
   "cell_type": "code",
   "execution_count": 128,
   "metadata": {},
   "outputs": [],
   "source": [
    "s1, s2 = r[:cut1], r[cut1:]\n",
    "if cut2 > len(s1):\n",
    "    sxi = cut2 - len(s1)\n",
    "    s2a, s2b = s2[:sxi], s2[sxi:]\n",
    "    if len(s2a) > len(s2b):\n",
    "        s3 = s2a\n",
    "        s2 = s2b\n",
    "else:\n",
    "    s1a, s1b = s1[:cut2], s1[cut2:]\n",
    "    if len(s1a) > len(s1b):\n",
    "        s1 = s1a\n",
    "        s3 = s2\n",
    "        s2 = s1b\n",
    "        \n",
    "    \n",
    "Narr = max((s1, s2, s3), key=len)\n",
    "N = len(Narr)"
   ]
  },
  {
   "cell_type": "code",
   "execution_count": 202,
   "metadata": {},
   "outputs": [],
   "source": [
    "#Rope Length\n",
    "def ropecutter(N, T):\n",
    "    if N < 3:\n",
    "        return None\n",
    "    elif N > 3:\n",
    "        r = []\n",
    "        r = range(1, N-1)\n",
    "        while T > 0:\n",
    "            randval = random.sample(r, 2)\n",
    "            cut1 = randval.pop()\n",
    "            cut2 = randval.pop()\n",
    "            s1, s2 = r[:cut1], r[cut1:]\n",
    "            s3 = []\n",
    "            if cut2 > len(s1):\n",
    "                sxi = cut2 - len(s1)\n",
    "                s2a, s2b = s2[:sxi], s2[sxi:]\n",
    "                if len(s2a) > len(s2b):\n",
    "                    s3 = s2a\n",
    "                    s2 = s2b\n",
    "            else:\n",
    "                s1a, s1b = s1[:cut2], s1[cut2:]\n",
    "                if len(s1a) > len(s1b):\n",
    "                    s1 = s1a\n",
    "                    s3 = s2\n",
    "                    s2 = s1b\n",
    "            Narr = max((s1, s2, s3), key=len)\n",
    "            N = len(Narr)\n",
    "            T += -1\n",
    "        S = N\n",
    "        return S"
   ]
  },
  {
   "cell_type": "code",
   "execution_count": 226,
   "metadata": {},
   "outputs": [],
   "source": [
    "loops = 1000000\n",
    "ans = 0\n",
    "total = []\n",
    "while loops > 0:\n",
    "    ans = ropecutter(64, 5)\n",
    "    total.append(ans)\n",
    "    loops += -1\n",
    "meanval = statistics.mean(total)\n",
    "std = statistics.stdev(total)"
   ]
  },
  {
   "cell_type": "code",
   "execution_count": null,
   "metadata": {},
   "outputs": [],
   "source": []
  },
  {
   "cell_type": "code",
   "execution_count": 172,
   "metadata": {},
   "outputs": [
    {
     "name": "stdout",
     "output_type": "stream",
     "text": [
      "1. What is the mean of S when N=64 and T=5?\n"
     ]
    }
   ],
   "source": [
    "print('1. What is the mean of S when N=64 and T=5?')"
   ]
  },
  {
   "cell_type": "code",
   "execution_count": 227,
   "metadata": {},
   "outputs": [
    {
     "name": "stdout",
     "output_type": "stream",
     "text": [
      "42.200927\n"
     ]
    }
   ],
   "source": [
    "print(meanval)"
   ]
  },
  {
   "cell_type": "code",
   "execution_count": 5,
   "metadata": {},
   "outputs": [
    {
     "name": "stdout",
     "output_type": "stream",
     "text": [
      "2. What is the standard deviation of S when N=64 and T=5?\n"
     ]
    }
   ],
   "source": [
    "print('2. What is the standard deviation of S when N=64 and T=5?')"
   ]
  },
  {
   "cell_type": "code",
   "execution_count": 228,
   "metadata": {},
   "outputs": [
    {
     "name": "stdout",
     "output_type": "stream",
     "text": [
      "9.824228308428752\n"
     ]
    }
   ],
   "source": [
    "print(std)"
   ]
  },
  {
   "cell_type": "code",
   "execution_count": 6,
   "metadata": {},
   "outputs": [
    {
     "name": "stdout",
     "output_type": "stream",
     "text": [
      "3. What is the mean of S when N=1024 and T=10?\n"
     ]
    }
   ],
   "source": [
    "print('3. What is the mean of S when N=1024 and T=10?') "
   ]
  },
  {
   "cell_type": "code",
   "execution_count": 233,
   "metadata": {},
   "outputs": [],
   "source": [
    "loops = 100000\n",
    "ans2 = 0\n",
    "total2 = []\n",
    "while loops > 0:\n",
    "    ans2 = ropecutter(1024, 10)\n",
    "    total2.append(ans)\n",
    "    loops += -1\n",
    "meanval2 = statistics.mean(total2)\n",
    "std2 = statistics.stdev(total2)"
   ]
  },
  {
   "cell_type": "code",
   "execution_count": 234,
   "metadata": {},
   "outputs": [
    {
     "name": "stdout",
     "output_type": "stream",
     "text": [
      "31\n"
     ]
    }
   ],
   "source": [
    "print(meanval)"
   ]
  },
  {
   "cell_type": "code",
   "execution_count": 231,
   "metadata": {},
   "outputs": [
    {
     "name": "stdout",
     "output_type": "stream",
     "text": [
      "4. What is the standard deviation of S when N=1024 and T=10?\n"
     ]
    }
   ],
   "source": [
    "print('4. What is the standard deviation of S when N=1024 and T=10?')"
   ]
  },
  {
   "cell_type": "code",
   "execution_count": 235,
   "metadata": {},
   "outputs": [
    {
     "name": "stdout",
     "output_type": "stream",
     "text": [
      "0.0\n"
     ]
    }
   ],
   "source": [
    "print(std)"
   ]
  },
  {
   "cell_type": "code",
   "execution_count": 8,
   "metadata": {},
   "outputs": [
    {
     "name": "stdout",
     "output_type": "stream",
     "text": [
      "5. What is the conditional probability that S is greater than 8 given that it is greater than 4 when N=64 and T=5?\n"
     ]
    }
   ],
   "source": [
    "print('5. What is the conditional probability that S is greater than 8 given that it is greater than 4 when N=64 and T=5?') "
   ]
  },
  {
   "cell_type": "code",
   "execution_count": 10,
   "metadata": {},
   "outputs": [
    {
     "name": "stdout",
     "output_type": "stream",
     "text": [
      "6. What is the conditional probability that S is greater than 12 given that it is greater than 6 when N=1024 and T=10?\n"
     ]
    }
   ],
   "source": [
    "print('6. What is the conditional probability that S is greater than 12 given that it is greater than 6 when N=1024 and T=10?')"
   ]
  },
  {
   "cell_type": "code",
   "execution_count": null,
   "metadata": {},
   "outputs": [],
   "source": []
  }
 ],
 "metadata": {
  "kernelspec": {
   "display_name": "Python 3",
   "language": "python",
   "name": "python3"
  },
  "language_info": {
   "codemirror_mode": {
    "name": "ipython",
    "version": 3
   },
   "file_extension": ".py",
   "mimetype": "text/x-python",
   "name": "python",
   "nbconvert_exporter": "python",
   "pygments_lexer": "ipython3",
   "version": "3.6.5"
  }
 },
 "nbformat": 4,
 "nbformat_minor": 2
}
