{
 "cells": [
  {
   "cell_type": "code",
   "execution_count": 3,
   "metadata": {},
   "outputs": [],
   "source": [
    "import pandas as pd\n",
    "import numpy as np\n",
    "import matplotlib.pyplot as plt\n",
    "import seaborn as sns\n",
    "%matplotlib inline\n",
    "import statsmodels.api as sm\n",
    "from statsmodels.formula.api import ols\n",
    "from statsmodels.sandbox.regression.predstd import wls_prediction_std\n"
   ]
  },
  {
   "cell_type": "code",
   "execution_count": 4,
   "metadata": {},
   "outputs": [
    {
     "data": {
      "text/plain": [
       "68467"
      ]
     },
     "execution_count": 4,
     "metadata": {},
     "output_type": "execute_result"
    }
   ],
   "source": [
    "# Q1\n",
    "data = pd.read_excel('ccrb_datatransparencyinitiative_20170207.xlsx', sheet_name='Complaints_Allegations')\n",
    "\n",
    "df = pd.DataFrame(data, columns=data.columns)\n",
    "df.dropna(inplace=True)\n",
    "ndf = df.drop_duplicates('UniqueComplaintId')\n",
    "len(ndf['UniqueComplaintId'].unique().tolist())"
   ]
  },
  {
   "cell_type": "code",
   "execution_count": 6,
   "metadata": {},
   "outputs": [
    {
     "name": "stdout",
     "output_type": "stream",
     "text": [
      "Answer = 0.3413177151036266\n"
     ]
    },
    {
     "data": {
      "image/png": "[encoded data removed]",
      "text/plain": [
       "<Figure size 432x288 with 1 Axes>"
      ]
     },
     "metadata": {},
     "output_type": "display_data"
    }
   ],
   "source": [
    "# Q2\n",
    "sns.countplot(ndf['Borough of Occurrence'])\n",
    "plt.title('Borough of Occurrence')\n",
    "\n",
    "bindex = ndf['Borough of Occurrence'].value_counts().index.tolist()\n",
    "bvalues = ndf['Borough of Occurrence'].value_counts().values.tolist()\n",
    "ans2 = max(bvalues) / sum(bvalues)\n",
    "print(\"Answer = \" + str(ans2))"
   ]
  },
  {
   "cell_type": "code",
   "execution_count": 7,
   "metadata": {},
   "outputs": [
    {
     "name": "stdout",
     "output_type": "stream",
     "text": [
      "Bronx\n",
      "53.032176517462155 complaints per 100k residents\n"
     ]
    }
   ],
   "source": [
    "# Q3 \n",
    "df = ndf.copy()\n",
    "#trend.set_index('Incident Year', inplace=True)\n",
    "df = df[df['Incident Year'].isin([int(2016)])]\n",
    "local = bindex[0:5]\n",
    "df = df[df['Borough of Occurrence'].isin(local)]\n",
    "\n",
    "a = df['Borough of Occurrence'].value_counts().index.tolist()\n",
    "b = df['Borough of Occurrence'].value_counts().values.tolist()\n",
    "local_2016 = {a: b for a,b in zip(a,b)}\n",
    "\n",
    "pop_2016 = {'Brooklyn': 2629150, 'Manhattan': 1643734, \n",
    "            'Bronx': 1455720, 'Queens': 2333054, 'Staten Island': 476015}\n",
    "\n",
    "percapita = {k: local_2016[k]/pop_2016[k] for k in local_2016}\n",
    "val = max(percapita, key=percapita.get)\n",
    "print(val)\n",
    "\n",
    "per100k = percapita['Bronx'] * 100000\n",
    "print(str(per100k) + ' complaints per 100k residents')"
   ]
  },
  {
   "cell_type": "code",
   "execution_count": 8,
   "metadata": {},
   "outputs": [
    {
     "name": "stdout",
     "output_type": "stream",
     "text": [
      "0.4743745161902814 years\n"
     ]
    }
   ],
   "source": [
    "# Q4\n",
    "cdt = ndf.copy()\n",
    "cdt.head()\n",
    "cdt['Availability'] = cdt['Close Year'] - cdt['Received Year']\n",
    "avg_duration = cdt['Availability'].mean()\n",
    "print(str(avg_duration) + ' years' )"
   ]
  },
  {
   "cell_type": "code",
   "execution_count": 9,
   "metadata": {},
   "outputs": [
    {
     "name": "stdout",
     "output_type": "stream",
     "text": [
      "                            OLS Regression Results                            \n",
      "==============================================================================\n",
      "Dep. Variable:              row_count   R-squared:                       0.990\n",
      "Model:                            OLS   Adj. R-squared:                  0.989\n",
      "Method:                 Least Squares   F-statistic:                     792.8\n",
      "Date:                Mon, 23 Jul 2018   Prob (F-statistic):           2.73e-09\n",
      "Time:                        10:00:07   Log-Likelihood:                -1.7095\n",
      "No. Observations:                  10   AIC:                             7.419\n",
      "Df Residuals:                       8   BIC:                             8.024\n",
      "Df Model:                           1                                         \n",
      "Covariance Type:            nonrobust                                         \n",
      "=================================================================================\n",
      "                    coef    std err          t      P>|t|      [0.025      0.975]\n",
      "---------------------------------------------------------------------------------\n",
      "Intercept        13.0658      0.287     45.489      0.000      12.403      13.728\n",
      "num_incidents    -0.0049      0.000    -28.157      0.000      -0.005      -0.004\n",
      "==============================================================================\n",
      "Omnibus:                        0.368   Durbin-Watson:                   2.918\n",
      "Prob(Omnibus):                  0.832   Jarque-Bera (JB):                0.398\n",
      "Skew:                           0.340   Prob(JB):                        0.820\n",
      "Kurtosis:                       2.298   Cond. No.                     4.71e+03\n",
      "==============================================================================\n",
      "\n",
      "Warnings:\n",
      "[1] Standard Errors assume that the covariance matrix of the errors is correctly specified.\n",
      "[2] The condition number is large, 4.71e+03. This might indicate that there are\n",
      "strong multicollinearity or other numerical problems.\n"
     ]
    },
    {
     "name": "stderr",
     "output_type": "stream",
     "text": [
      "/Users/tjs/anaconda3/envs/bikemap/lib/python3.7/site-packages/scipy/stats/stats.py:1394: UserWarning: kurtosistest only valid for n>=20 ... continuing anyway, n=10\n",
      "  \"anyway, n=%i\" % int(n))\n"
     ]
    },
    {
     "data": {
      "image/png": "[encoded data removed]",
      "text/plain": [
       "<Figure size 432x108 with 1 Axes>"
      ]
     },
     "metadata": {},
     "output_type": "display_data"
    }
   ],
   "source": [
    "# Q5\n",
    "fsk = ndf.copy()\n",
    "fsk = fsk[fsk['Complaint Contains Stop & Frisk Allegations'].isin([True])]\n",
    "time = np.arange(2007,2017)\n",
    "fsk = fsk[fsk['Incident Year'].isin(time)]\n",
    "sns.catplot(x=\"Incident Year\", kind=\"count\", palette=\"ch:.1\", height=1.5, aspect=4, data=fsk)\n",
    "\n",
    "a = fsk['Incident Year'].value_counts().index.tolist()\n",
    "b = fsk['Incident Year'].value_counts().values.tolist()\n",
    "f = {str(a): b for a,b in zip(a,b)}\n",
    "q = pd.DataFrame.from_dict(f, orient='index', columns=['count'])\n",
    "f.items()\n",
    "\n",
    "wing = ndf.copy()\n",
    "\n",
    "type(q.index)\n",
    "df = q.reset_index()\n",
    "type(df['index'])\n",
    "df = df.rename(index=str, columns={\"index\": \"date\", \"count\": \"num_incidents\"})\n",
    "df.index = pd.DatetimeIndex(df.date)\n",
    "idx = pd.date_range(df.index.min(), df.index.max())\n",
    "\n",
    "df = df.reindex(index = idx)\n",
    "df.dropna(inplace=True)\n",
    "tempdf = df.copy()\n",
    "\n",
    "df.insert(df.shape[1],\n",
    "          'row_count',\n",
    "          df.index.value_counts().sort_index().cumsum())\n",
    "\n",
    "pd.to_datetime(df['date']).astype(int).astype(float)\n",
    "results = ols('row_count ~ num_incidents', data=df).fit()\n",
    "print(results.summary())\n",
    "\n",
    "res = sm.OLS(df.num_incidents, df.row_count).fit()\n",
    "print('Predicted values: ', res.predict())"
   ]
  },
  {
   "cell_type": "code",
   "execution_count": 11,
   "metadata": {},
   "outputs": [
    {
     "data": {
      "image/png": "[encoded data removed]",
      "text/plain": [
       "<Figure size 432x288 with 1 Axes>"
      ]
     },
     "metadata": {},
     "output_type": "display_data"
    },
    {
     "name": "stdout",
     "output_type": "stream",
     "text": [
      "2007-12-31    1765.0\n",
      "2008-12-31    2504.0\n",
      "2009-12-31    1948.0\n",
      "2010-12-31    1941.0\n",
      "2011-12-31    1676.0\n",
      "2012-12-31    1441.0\n",
      "2013-12-31    1254.0\n",
      "2014-12-31     966.0\n",
      "2015-12-31     878.0\n",
      "2016-12-31     685.0\n",
      "2017-12-31     508.0\n",
      "2018-12-31     387.0\n",
      "Freq: A-DEC, dtype: float64\n"
     ]
    },
    {
     "name": "stderr",
     "output_type": "stream",
     "text": [
      "/Users/tjs/anaconda3/envs/bikemap/lib/python3.7/site-packages/statsmodels/base/model.py:488: HessianInversionWarning: Inverting hessian failed, no bse or cov_params available\n",
      "  'available', HessianInversionWarning)\n",
      "/Users/tjs/anaconda3/envs/bikemap/lib/python3.7/site-packages/statsmodels/base/model.py:508: ConvergenceWarning: Maximum Likelihood optimization failed to converge. Check mle_retvals\n",
      "  \"Check mle_retvals\", ConvergenceWarning)\n"
     ]
    },
    {
     "data": {
      "image/png": "[encoded data removed]",
      "text/plain": [
       "<Figure size 864x288 with 1 Axes>"
      ]
     },
     "metadata": {},
     "output_type": "display_data"
    }
   ],
   "source": [
    "fig = sns.regplot(data = df, x = 'row_count', y = 'num_incidents')\n",
    "plt.show()\n",
    "\n",
    "dta = tempdf.copy()\n",
    "dta.index\n",
    "dates = sm.tsa.datetools.dates_from_range('2007', length=len(dta.date))\n",
    "\n",
    "dta.index = pd.Index(sm.tsa.datetools.dates_from_range('2007', '2016'))\n",
    "del dta[\"date\"]\n",
    "\n",
    "dta.plot(figsize=(12,4))\n",
    "\n",
    "endog = pd.Series(dta.num_incidents, index=dates)\n",
    "ar_model = sm.tsa.AR(endog, freq='A')\n",
    "pandas_ar_res = ar_model.fit(maxlag=8, method='mle', disp=-1)\n",
    "pred = pandas_ar_res.predict(start='2007', end='2018')\n",
    "print(pred.round())"
   ]
  },
  {
   "cell_type": "markdown",
   "metadata": {},
   "source": [
    "Answer = 387"
   ]
  },
  {
   "cell_type": "code",
   "execution_count": null,
   "metadata": {},
   "outputs": [],
   "source": []
  }
 ],
 "metadata": {
  "kernelspec": {
   "display_name": "Python 3",
   "language": "python",
   "name": "python3"
  },
  "language_info": {
   "codemirror_mode": {
    "name": "ipython",
    "version": 3
   },
   "file_extension": ".py",
   "mimetype": "text/x-python",
   "name": "python",
   "nbconvert_exporter": "python",
   "pygments_lexer": "ipython3",
   "version": "3.7.0"
  }
 },
 "nbformat": 4,
 "nbformat_minor": 2
}
