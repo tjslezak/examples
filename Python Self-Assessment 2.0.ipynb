{
 "cells": [
  {
   "cell_type": "markdown",
   "metadata": {},
   "source": [
    "# Python\n",
    "In this first section of the self-assessment we first explore some ideas related to scope, looping, and functions. Then we ask you to complete 5 Python challenges that we designed along with 5 more challenges of your choosing from ​Codewars​.\n"
   ]
  },
  {
   "cell_type": "markdown",
   "metadata": {},
   "source": [
    "## Spot The Differences\n",
    "Without running the scripts, can you tell what the output will be? If you have some Python or programming background, this section should take very little time."
   ]
  },
  {
   "cell_type": "markdown",
   "metadata": {},
   "source": [
    "#### For Loops"
   ]
  },
  {
   "cell_type": "markdown",
   "metadata": {},
   "source": [
    "```\n",
    "# Script 1: prints\n",
    "1\n",
    "2\n",
    "3\n",
    "\n",
    "# Script 2: prints\n",
    "1\n",
    "3\n",
    "6\n",
    "\n",
    "# Script 3: prints\n",
    "6\n",
    "```"
   ]
  },
  {
   "cell_type": "markdown",
   "metadata": {},
   "source": [
    "#### For Loops in Functions"
   ]
  },
  {
   "cell_type": "markdown",
   "metadata": {},
   "source": [
    "```\n",
    "# Script 1: returns \n",
    "cat\n",
    "\n",
    "# Script 2: returns \n",
    "['cat']\n",
    "\n",
    "# Script 3: returns \n",
    "dad\n",
    "\n",
    "# Script 4: returns \n",
    "['dad']\n",
    "\n",
    "# Script 5: returns \n",
    "['cat', 'bad', 'dad']\n",
    "['cat', 'bad', 'dad']\n",
    "        \n",
    "# Script 6: returns\n",
    "['cat', 'bad', 'dad']\n",
    "['cat', 'bad', 'dad', 'cat', 'bad', 'dad']\n",
    "```"
   ]
  },
  {
   "cell_type": "markdown",
   "metadata": {},
   "source": [
    "#### Make a Function\n",
    "Functions, blocks of reusable code, keep your code modular, well organized and easily maintainable. You should try to keep your code organized in functions. Take a look at each of the following snippets of code and organize them into functions."
   ]
  },
  {
   "cell_type": "markdown",
   "metadata": {},
   "source": [
    "1. Write a function that takes a list of numbers and returns that list with 10 added to each number."
   ]
  },
  {
   "cell_type": "markdown",
   "metadata": {},
   "source": [
    "```\n",
    "list_num = [1,2,3]\n",
    "list_add_10 = []\n",
    "for num in list_num:\n",
    "    list_add_10.append(num + 10)\n",
    "print(list_add_10)\n",
    "```"
   ]
  },
  {
   "cell_type": "code",
   "execution_count": 1,
   "metadata": {},
   "outputs": [],
   "source": [
    "def list_add_10(input_list):\n",
    "    out_list = []\n",
    "    for num in input_list:\n",
    "        out_list.append(num + 10)\n",
    "    return out_list"
   ]
  },
  {
   "cell_type": "code",
   "execution_count": 2,
   "metadata": {},
   "outputs": [],
   "source": [
    "list_add_10([1,2,3])"
   ]
  },
  {
   "cell_type": "markdown",
   "metadata": {},
   "source": [
    "2. Write a function that takes in a list of strings and returns a list with the length of each word from the original list."
   ]
  },
  {
   "cell_type": "markdown",
   "metadata": {},
   "source": [
    "```\n",
    "list_words = ['great', 'job', 'so', 'far']\n",
    "list_length_words = []\n",
    "for word in list_words:\n",
    "    list_length_words.append(len(word))\n",
    "print(list_length_words)\n",
    "```"
   ]
  },
  {
   "cell_type": "code",
   "execution_count": 3,
   "metadata": {},
   "outputs": [],
   "source": [
    "def list_word_length(list_of_words):\n",
    "    wordlengths = []\n",
    "    for word in list_of_words:\n",
    "        wordlengths.append(len(word))\n",
    "    return wordlengths"
   ]
  },
  {
   "cell_type": "code",
   "execution_count": 4,
   "metadata": {},
   "outputs": [],
   "source": [
    "list_word_length(['great', 'job', 'so', 'far'])"
   ]
  },
  {
   "cell_type": "markdown",
   "metadata": {},
   "source": [
    "## Python Challenges"
   ]
  },
  {
   "cell_type": "markdown",
   "metadata": {},
   "source": [
    "#### Challenge 1\n",
    "Write a function that counts the number of times a given letter appears in a document. The output should be in a dictionary."
   ]
  },
  {
   "cell_type": "code",
   "execution_count": 5,
   "metadata": {},
   "outputs": [],
   "source": [
    "def letter_counter(path_to_file, letters_to_count):\n",
    "    '''\n",
    "    Returns the number of times specified letters appear in a file\n",
    "    \n",
    "    PARAMETERS\n",
    "    ----------\n",
    "    path_to_file: str\n",
    "        Can be relative or the absolute path to the file of interest\n",
    "    letters_to_count: str\n",
    "        String containing the letters to count in the text\n",
    "        \n",
    "    RETURNS\n",
    "    -------\n",
    "    letter_dict: dict\n",
    "        - key: letter\n",
    "        - value: the count of that letter in the file\n",
    "    The counting is not case sensitive\n",
    "    \n",
    "    EXAMPLE\n",
    "    -------\n",
    "    ```file.txt\n",
    "    This is the file of interest. Count the vowels!\n",
    "    ```\n",
    "    >>> letter_counter('file.txt', 'aeiou')\n",
    "    {'i':4, 'e':6, 'o':3, 'u':1}\n",
    "    '''\n",
    "    text = open(path_to_file).read()\n",
    "    cntd = dict()\n",
    "    for letter in letters_to_count:\n",
    "        cntd[letter] = text.count(letter)\n",
    "        \n",
    "    return cntd"
   ]
  },
  {
   "cell_type": "code",
   "execution_count": 6,
   "metadata": {},
   "outputs": [
    {
     "data": {
      "text/plain": [
       "{'x': 8, 'y': 42, 'z': 1}"
      ]
     },
     "execution_count": 6,
     "metadata": {},
     "output_type": "execute_result"
    }
   ],
   "source": [
    "letter_counter('/Users/tjs/accelerated-python/io.txt', 'xyz')"
   ]
  },
  {
   "cell_type": "markdown",
   "metadata": {},
   "source": [
    "#### Challenge 2\n",
    "Write a function that removes one occurrence of a given item from a list. Do not use methods .pop() or .remove()! If the item is not present in the list, the output should be ‘The item is not in the list’."
   ]
  },
  {
   "cell_type": "code",
   "execution_count": 7,
   "metadata": {},
   "outputs": [],
   "source": [
    "def remove_item(list_items, item_to_remove):\n",
    "    '''\n",
    "    Remove first occurence of item from list\n",
    "    \n",
    "    PARAMETERS\n",
    "    ----------\n",
    "    list_items: list\n",
    "    item_to_remove: object\n",
    "        The object to be removed from list_items\n",
    "        \n",
    "    RETURNS\n",
    "    -------\n",
    "    - if the item is in the list: list\n",
    "        list with the first occurrence of item removed\n",
    "    - if the item is not in the list: str\n",
    "        'The item is not in the list'\n",
    "    \n",
    "    EXAMPLE\n",
    "    -------\n",
    "    >>> list_items = [1, 3, 7, 8, 0, 7]\n",
    "    >>> remove_item(list_items, 7)\n",
    "    [1, 3, 8, 0, 7]\n",
    "    \n",
    "    EXTRA CREDIT\n",
    "    ------------\n",
    "    Could you modify your function to remove ALL items of interest from the\n",
    "    list? How would you change the parameters of your function to toggle\n",
    "    between removing the first occurrence and removing all occurrences?\n",
    "    '''\n",
    "    if item_to_remove in list_items:\n",
    "        n = list_items.count(item_to_remove)\n",
    "        while n > 0:\n",
    "            idx = list_items.index(item_to_remove)\n",
    "            del list_items[idx]\n",
    "            n -= 1\n",
    "        result = list_items\n",
    "    else: \n",
    "        result = 'The item is not in the list'\n",
    "        \n",
    "    return result"
   ]
  },
  {
   "cell_type": "code",
   "execution_count": 8,
   "metadata": {},
   "outputs": [
    {
     "data": {
      "text/plain": [
       "[1, 3, 8, 0]"
      ]
     },
     "execution_count": 8,
     "metadata": {},
     "output_type": "execute_result"
    }
   ],
   "source": [
    "list_items = [1, 3, 7, 8, 0, 7]\n",
    "remove_item(list_items, 7)"
   ]
  },
  {
   "cell_type": "markdown",
   "metadata": {},
   "source": [
    "#### Challenge 3\n",
    "A simple substitution cipher consists of substituting every plaintext character for a different ciphertext character. The following is an example of one possible cipher:\n",
    "http://practicalcryptography.com/ciphers/simple-substitution-cipher/\n",
    "- Plain alphabet : abcdefghijklmnopqrstuvwxyz \n",
    "- cipher alphabet: phqgiumeaylnofdxjkrcvstzwb\n",
    "\n",
    "Write a cipher function as described in the pseudo code below:"
   ]
  },
  {
   "cell_type": "code",
   "execution_count": 9,
   "metadata": {},
   "outputs": [],
   "source": [
    "def cipher(text, cipher_alphabet, option='encipher'):\n",
    "    '''\n",
    "    Run text through a particular cipher alphabet\n",
    "    \n",
    "    PARAMETERS\n",
    "    ----------\n",
    "    text: str\n",
    "        Either the plain text to encipher, or the cipher text to decrypt\n",
    "    cipher_alphabet: dict\n",
    "        Dictionary specifying {'original_letter': 'cipher_letter'}\n",
    "    option: str\n",
    "        'encipher' (accept plain text and output cipher text)\n",
    "        'decipher' (accept cipher text and output plain text)\n",
    "        \n",
    "    RETURNS\n",
    "    -------\n",
    "    cipher text by default,\n",
    "    plain text if option is set to decipher\n",
    "    \n",
    "    >>> d = dict(zip('abcdefghijklmnopqrstuvwxyz',\n",
    "                     'phqgiumeaylnofdxjkrcvstzwb'))\n",
    "    >>> cipher('defend the east wall of the castle', d)\n",
    "    'giuifg cei iprc ipnn du cei qprcni'\n",
    "    >>> cipher('giuifg cei iprc ipnn du cei qprcni', d, option='decipher')\n",
    "    'defend the east wall of the castle'\n",
    "    '''\n",
    "    wordlist = []\n",
    "    sep = ''\n",
    "    cipherkeys = list(cipher_alphabet.keys())\n",
    "    ciphervalues = list(cipher_alphabet.values())\n",
    "    for letter in text:\n",
    "        if letter == ' ':\n",
    "            cipher = letter\n",
    "        elif option == 'encipher':\n",
    "            cipher = cipher_alphabet.get(letter)\n",
    "        elif option == 'decipher':\n",
    "            ciph_idx = ciphervalues.index(letter)\n",
    "            cipher = cipherkeys[ciph_idx] \n",
    "        wordlist.append(cipher)\n",
    "    result = sep.join(wordlist)\n",
    "    \n",
    "    return result"
   ]
  },
  {
   "cell_type": "code",
   "execution_count": 10,
   "metadata": {},
   "outputs": [
    {
     "data": {
      "text/plain": [
       "'giuifg cei iprc tpnn du cei qprcni'"
      ]
     },
     "execution_count": 10,
     "metadata": {},
     "output_type": "execute_result"
    }
   ],
   "source": [
    "s = 'defend the east wall of the castle',\n",
    "d = dict(zip('abcdefghijklmnopqrstuvwxyz','phqgiumeaylnofdxjkrcvstzwb'))\n",
    "cipher('defend the east wall of the castle', d)"
   ]
  },
  {
   "cell_type": "code",
   "execution_count": 11,
   "metadata": {},
   "outputs": [
    {
     "data": {
      "text/plain": [
       "'defend the east wall of the castle'"
      ]
     },
     "execution_count": 11,
     "metadata": {},
     "output_type": "execute_result"
    }
   ],
   "source": [
    "st = 'giuifg cei iprc tpnn du cei qprcni'\n",
    "cipher(st, d, 'decipher')"
   ]
  },
  {
   "cell_type": "markdown",
   "metadata": {},
   "source": [
    "#### Challenge 4\n",
    "Implement a function that counts the number of isograms in a list of strings.\n",
    " - An isogram is a word that has no repeating letters, consecutive or nonconsecutive."
   ]
  },
  {
   "cell_type": "code",
   "execution_count": 12,
   "metadata": {},
   "outputs": [],
   "source": [
    "def count_isograms(list_of_words):\n",
    "    '''\n",
    "    Count the number of strings without repeating characters in a list\n",
    "    \n",
    "    PARAMETERS\n",
    "    ----------\n",
    "    list_of_words: list of strings\n",
    "    \n",
    "    RETURNS\n",
    "    -------\n",
    "    count of isograms (as an integer)\n",
    "    \n",
    "    >>> count_isograms(['conduct', 'letter', 'contract', 'hours', 'interview'])\n",
    "    1\n",
    "    '''\n",
    "    isograms = []\n",
    "    for i in test:\n",
    "        if len(i) == len(set(i)):\n",
    "            isograms.append(i)\n",
    "\n",
    "    return len(isograms)"
   ]
  },
  {
   "cell_type": "code",
   "execution_count": 13,
   "metadata": {},
   "outputs": [],
   "source": [
    "test = ['conduct', 'letter', 'contract', 'hours', 'interview']"
   ]
  },
  {
   "cell_type": "code",
   "execution_count": 14,
   "metadata": {},
   "outputs": [
    {
     "data": {
      "text/plain": [
       "1"
      ]
     },
     "execution_count": 14,
     "metadata": {},
     "output_type": "execute_result"
    }
   ],
   "source": [
    "count_isograms(test)"
   ]
  },
  {
   "cell_type": "markdown",
   "metadata": {},
   "source": [
    "#### Challenge 5\n",
    "Write a function that manually sorts a list of integers. Do not use the built-in sorted() function or the .sort() string method. Write out your entire algorithm. (hint: there are LOTS of ways to accomplish this task)"
   ]
  },
  {
   "cell_type": "code",
   "execution_count": 15,
   "metadata": {},
   "outputs": [],
   "source": [
    "def manual_sort(data_list):\n",
    "    '''\n",
    "    Sorts and returns the list\n",
    "    \n",
    "    PARAMETERS\n",
    "    ----------\n",
    "    data_list: list of integers\n",
    "    \n",
    "    RETURNS\n",
    "    -------\n",
    "    The same list but sorted\n",
    "    \n",
    "    EXAMPLE\n",
    "    -------\n",
    "    >>> manual_sort([4, 6, 9, 1, 2, 6])\n",
    "    [1, 2, 4, 6, 6, 9]\n",
    "    '''\n",
    "    dataset = set(data_list)\n",
    "    new = []\n",
    "    for i in dataset:\n",
    "        n = data_list.count(i)\n",
    "        while n > 0:\n",
    "            new.append(i)\n",
    "            n -= 1\n",
    "            \n",
    "    return new"
   ]
  },
  {
   "cell_type": "code",
   "execution_count": 16,
   "metadata": {},
   "outputs": [],
   "source": [
    "sorttest = [4, 6, 9, 1, 2, 6]"
   ]
  },
  {
   "cell_type": "code",
   "execution_count": 17,
   "metadata": {},
   "outputs": [
    {
     "data": {
      "text/plain": [
       "[1, 2, 4, 6, 6, 9]"
      ]
     },
     "execution_count": 17,
     "metadata": {},
     "output_type": "execute_result"
    }
   ],
   "source": [
    "manual_sort(sorttest)"
   ]
  },
  {
   "cell_type": "markdown",
   "metadata": {},
   "source": [
    "#### Challenges 6 - 10\n",
    "Websites like ​Codewars​ host programming challenges for coders to sharpen their skills. Go to their website and pick five problems on level 6. Be sure to record the problem along with your solution. Ideally these problems should each take around 20-30 minutes to complete."
   ]
  },
  {
   "cell_type": "markdown",
   "metadata": {},
   "source": [
    "### 6. Find the missing letter  (6 kyu)\n",
    "https://www.codewars.com/kata/5839edaa6754d6fec10000a2/\n",
    "\n",
    "Write a method that takes an array of consecutive (increasing) letters as input and that returns the missing letter in the array.\n",
    "\n",
    "You will always get an valid array. And it will be always exactly one letter be missing. The length of the array will always be at least 2.\n",
    "The array will always contain letters in only one case."
   ]
  },
  {
   "cell_type": "markdown",
   "metadata": {},
   "source": [
    "```\n",
    "Example:\n",
    "['a','b','c','d','f'] -> 'e'\n",
    "['O','Q','R','S'] -> 'P'\n",
    "\n",
    "(Use the English alphabet with 26 letters!)\n",
    "```"
   ]
  },
  {
   "cell_type": "code",
   "execution_count": 18,
   "metadata": {},
   "outputs": [],
   "source": [
    "# My Solution (Python 3.6.0)\n",
    "\n",
    "def find_missing_letter(chars):\n",
    "    chars_lower = ''.join(chars).casefold()\n",
    "    alpha = 'abcdefghijklmnopqrstuvwxyz'\n",
    "    idx = alpha.index(chars_lower[0])\n",
    "    idf = alpha.index(chars_lower[-1])\n",
    "    abcseq = alpha[idx:idf]\n",
    "    charset = set(chars_lower)\n",
    "    abcset = set(abcseq)\n",
    "    diff = abcset - charset\n",
    "\n",
    "    for char in diff:\n",
    "        if chars[0].isupper() == True:\n",
    "            result = char.upper()\n",
    "        else:\n",
    "            result = char.lower()\n",
    "    \n",
    "    return result"
   ]
  },
  {
   "cell_type": "code",
   "execution_count": 19,
   "metadata": {},
   "outputs": [
    {
     "data": {
      "text/plain": [
       "'e'"
      ]
     },
     "execution_count": 19,
     "metadata": {},
     "output_type": "execute_result"
    }
   ],
   "source": [
    "find_missing_letter(['a','b','c','d','f'])"
   ]
  },
  {
   "cell_type": "code",
   "execution_count": 20,
   "metadata": {},
   "outputs": [
    {
     "data": {
      "text/plain": [
       "'P'"
      ]
     },
     "execution_count": 20,
     "metadata": {},
     "output_type": "execute_result"
    }
   ],
   "source": [
    "find_missing_letter(['O','Q','R','S'])"
   ]
  },
  {
   "cell_type": "markdown",
   "metadata": {},
   "source": [
    "### 7. Multiples of 3 or 5 (6 kyu)\n",
    "\n",
    "https://www.codewars.com/kata/514b92a657cdc65150000006/\n",
    "\n",
    "If we list all the natural numbers below 10 that are multiples of 3 or 5, we get 3, 5, 6 and 9. The sum of these multiples is 23.\n",
    "\n",
    "Finish the solution so that it returns the sum of all the multiples of 3 or 5 below the number passed in.\n",
    "\n",
    "Note: If the number is a multiple of both 3 and 5, only count it once.\n",
    "\n",
    "Courtesy of ProjectEuler.net\n"
   ]
  },
  {
   "cell_type": "code",
   "execution_count": 21,
   "metadata": {},
   "outputs": [],
   "source": [
    "def solution(number):\n",
    "    itvl = range(0, number)\n",
    "    a = {num for num in itvl if num % 5 == 0 or num % 3 == 0}\n",
    "    return sum(a)"
   ]
  },
  {
   "cell_type": "code",
   "execution_count": 22,
   "metadata": {},
   "outputs": [
    {
     "data": {
      "text/plain": [
       "195"
      ]
     },
     "execution_count": 22,
     "metadata": {},
     "output_type": "execute_result"
    }
   ],
   "source": [
    "solution(30)"
   ]
  },
  {
   "cell_type": "markdown",
   "metadata": {},
   "source": [
    "### 8. Convert string to camel case (6 kyu)\n",
    "https://www.codewars.com/kata/convert-string-to-camel-case/\n",
    "\n",
    "Complete the method/function so that it converts dash/underscore delimited words into camel casing. The first word within the output should be capitalized only if the original word was capitalized.\n",
    "\n",
    "```\n",
    "Example:\n",
    "to_camel_case(\"the-stealth-warrior\") # returns \"theStealthWarrior\"\n",
    "to_camel_case(\"The_Stealth_Warrior\") # returns \"TheStealthWarrior\"\n",
    "```"
   ]
  },
  {
   "cell_type": "code",
   "execution_count": 23,
   "metadata": {},
   "outputs": [],
   "source": [
    "def to_camel_case(text):\n",
    "    ss = string_splitter(text)\n",
    "    result = []\n",
    "    for word in ss:\n",
    "        if ss.index(word) == 0:\n",
    "            result.append(word)\n",
    "            continue\n",
    "        if word == ' ':\n",
    "            continue\n",
    "        result.append(word.title())\n",
    "    camelcase = ''.join(result)\n",
    "    \n",
    "    return camelcase\n",
    "\n",
    "def string_splitter(text):\n",
    "    s = text.replace('-', ' ')\n",
    "    s = s.replace('_', ' ')\n",
    "    ss = s.split()\n",
    "    \n",
    "    return ss"
   ]
  },
  {
   "cell_type": "code",
   "execution_count": 24,
   "metadata": {},
   "outputs": [
    {
     "data": {
      "text/plain": [
       "'aPippiIsPippi'"
      ]
     },
     "execution_count": 24,
     "metadata": {},
     "output_type": "execute_result"
    }
   ],
   "source": [
    "to_camel_case('a-Pippi_Is-Pippi')"
   ]
  },
  {
   "cell_type": "markdown",
   "metadata": {},
   "source": [
    "### 9. Highest Scoring Word (6 kyu)\n",
    "https://www.codewars.com/kata/57eb8fcdf670e99d9b000272/\n",
    "\n",
    "Given a string of words, you need to find the highest scoring word.\n",
    "\n",
    "Each letter of a word scores points according to it's position in the alphabet: ``` a = 1, b = 2, c = 3 ``` etc.\n",
    "\n",
    "You need to return the highest scoring word as a string.\n",
    "\n",
    "If two words score the same, return the word that appears earliest in the original string.\n",
    "\n",
    "All letters will be lowercase and all inputs will be valid."
   ]
  },
  {
   "cell_type": "code",
   "execution_count": 25,
   "metadata": {},
   "outputs": [],
   "source": [
    "def high(x):\n",
    "    abc = 'abcdefghijklmnopqrstuvwxyz'\n",
    "    new = {lett: val+1 for val, lett in enumerate(abc)}\n",
    "    wordlist = x.split()\n",
    "    score = []\n",
    "    for word in wordlist:\n",
    "        wordscore = []\n",
    "        for letter in word:\n",
    "            wordscore.append(new.get(letter))\n",
    "        score.append(sum(wordscore))\n",
    "    idx = score.index(max(score))\n",
    "    return wordlist[idx]"
   ]
  },
  {
   "cell_type": "code",
   "execution_count": 26,
   "metadata": {},
   "outputs": [
    {
     "data": {
      "text/plain": [
       "'volcano'"
      ]
     },
     "execution_count": 26,
     "metadata": {},
     "output_type": "execute_result"
    }
   ],
   "source": [
    "high('what time are we climbing up the volcano')"
   ]
  },
  {
   "cell_type": "markdown",
   "metadata": {},
   "source": [
    "### 10. Moving Zeros To The End (5 kyu)\n",
    "https://www.codewars.com/kata/52597aa56021e91c93000cb0\n",
    "\n",
    "Write an algorithm that takes an array and moves all of the zeros to the end, preserving the order of the other elements.\n",
    "\n",
    "```move_zeros([false,1,0,1,2,0,1,3,\"a\"]) # returns[false,1,1,2,1,3,\"a\",0,0] ```"
   ]
  },
  {
   "cell_type": "code",
   "execution_count": 27,
   "metadata": {},
   "outputs": [],
   "source": [
    "def move_zeros(array):\n",
    "    zeros = [z for z in array if z == 0 and (type(z) != bool) and (type(z) != None)]\n",
    "    nums = [n for n in array if (n != 0) or (type(n) == bool or type(n) == None)]\n",
    "    nums.extend(zeros)\n",
    "    return nums"
   ]
  },
  {
   "cell_type": "code",
   "execution_count": 28,
   "metadata": {},
   "outputs": [
    {
     "data": {
      "text/plain": [
       "True"
      ]
     },
     "execution_count": 28,
     "metadata": {},
     "output_type": "execute_result"
    }
   ],
   "source": [
    "test = [\"a\",0,0,\"b\",None,\"c\",\"d\",0,1,False,0,1,0,3,[],0,1,9,0,0,{},0,0,9]\n",
    "testresult = [\"a\",\"b\",None,\"c\",\"d\",1,False,1,3,[],1,9,{},9,0,0,0,0,0,0,0,0,0,0]\n",
    "result = move_zeros(test)\n",
    "testresult == result"
   ]
  },
  {
   "cell_type": "code",
   "execution_count": null,
   "metadata": {},
   "outputs": [],
   "source": []
  }
 ],
 "metadata": {
  "kernelspec": {
   "display_name": "Python 3",
   "language": "python",
   "name": "python3"
  },
  "language_info": {
   "codemirror_mode": {
    "name": "ipython",
    "version": 3
   },
   "file_extension": ".py",
   "mimetype": "text/x-python",
   "name": "python",
   "nbconvert_exporter": "python",
   "pygments_lexer": "ipython3",
   "version": "3.6.6"
  }
 },
 "nbformat": 4,
 "nbformat_minor": 2
}
